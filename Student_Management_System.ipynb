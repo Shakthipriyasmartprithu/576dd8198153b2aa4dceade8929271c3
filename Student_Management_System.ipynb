{
  "nbformat": 4,
  "nbformat_minor": 0,
  "metadata": {
    "colab": {
      "name": "Student Management System.ipynb",
      "provenance": [],
      "collapsed_sections": [],
      "include_colab_link": true
    },
    "kernelspec": {
      "name": "python3",
      "display_name": "Python 3"
    },
    "language_info": {
      "name": "python"
    }
  },
  "cells": [
    {
      "cell_type": "markdown",
      "metadata": {
        "id": "view-in-github",
        "colab_type": "text"
      },
      "source": [
        "<a href=\"https://colab.research.google.com/github/Shakthipriyasmartprithu/576dd8198153b2aa4dceade8929271c3/blob/master/Student_Management_System.ipynb\" target=\"_parent\"><img src=\"https://colab.research.google.com/assets/colab-badge.svg\" alt=\"Open In Colab\"/></a>"
      ]
    },
    {
      "cell_type": "markdown",
      "metadata": {
        "id": "YN-8x2f2pZ_-"
      },
      "source": [
        "# Project: Student Management System"
      ]
    },
    {
      "cell_type": "code",
      "metadata": {
        "id": "gKvTn4Yr_Eiq"
      },
      "source": [
        ""
      ],
      "execution_count": null,
      "outputs": []
    },
    {
      "cell_type": "code",
      "metadata": {
        "id": "Z-T8qBAX_2CV",
        "outputId": "56204a81-6688-48db-d1ee-6803bbfdd2a1",
        "colab": {
          "base_uri": "https://localhost:8080/"
        }
      },
      "source": [
        "class_1 = ['GH', 'AN','SR','YB']\n",
        "class_2 = ['HM','CG','CC']\n",
        "new_class = class_1 + class_2\n",
        "print(new_class)\n",
        "new_class.append('PW')\n",
        "print(new_class)\n",
        "new_class.remove('CG')\n",
        "print(new_class)\n",
        "courses = {'Maths':65, 'English':70, 'History':80, 'French':70, 'Science':60}\n",
        "x = courses.values()\n",
        "print(x)\n",
        "total = sum(courses.values())\n",
        "percent = (total/500)*100\n",
        "print(percent)\n",
        "\n",
        "Mathematics = {'GH':78,'AN':95,'SR':65, 'YB':50, 'HM': 60, 'CC':66, 'PW':75}\n",
        "topper = max(Mathematics, key=Mathematics.get)\n",
        "print(topper)\n",
        "\n",
        "topper = 'Andrew Ng'\n",
        "print(topper)\n",
        "\n",
        "Name = topper.split()\n",
        "print(Name)\n",
        "\n",
        "first_name = Name[0];\n",
        "print(first_name)\n",
        "\n",
        "last_name = Name[1];\n",
        "print(last_name)\n",
        "\n",
        "full_name = first_name + \" \" + last_name\n",
        "print(full_name)\n",
        "\n",
        "certificate_name = full_name.upper()\n",
        "print(certificate_name)"
      ],
      "execution_count": 14,
      "outputs": [
        {
          "output_type": "stream",
          "text": [
            "['GH', 'AN', 'SR', 'YB', 'HM', 'CG', 'CC']\n",
            "['GH', 'AN', 'SR', 'YB', 'HM', 'CG', 'CC', 'PW']\n",
            "['GH', 'AN', 'SR', 'YB', 'HM', 'CC', 'PW']\n",
            "dict_values([65, 70, 80, 70, 60])\n",
            "69.0\n",
            "AN\n",
            "Andrew Ng\n",
            "['Andrew', 'Ng']\n",
            "Andrew\n",
            "Ng\n",
            "Andrew Ng\n",
            "ANDREW NG\n"
          ],
          "name": "stdout"
        }
      ]
    },
    {
      "cell_type": "code",
      "metadata": {
        "id": "JLt8gGF0_yNd"
      },
      "source": [
        ""
      ],
      "execution_count": null,
      "outputs": []
    },
    {
      "cell_type": "code",
      "metadata": {
        "id": "lypDsECj_pNF"
      },
      "source": [
        ""
      ],
      "execution_count": null,
      "outputs": []
    },
    {
      "cell_type": "markdown",
      "metadata": {
        "id": "vmtjzBjHqObp"
      },
      "source": [
        "## Problem Statement\n",
        "You have been hired by the University of Data Science to manage their students' records. Your job is to create the student management system for the university. Let's try to build the system using basic Python operations.\n",
        "\n",
        "## Why solve this project?\n",
        "\n",
        "After completing this project, you will get to know how to solve basic Python problems. In this project, you will be applying the following concepts:\n",
        "\n",
        "* Mathematical operations\n",
        "* List operations\n",
        "* Dictionary operations\n",
        "* String indexing and formatting"
      ]
    },
    {
      "cell_type": "markdown",
      "metadata": {
        "id": "XVbTo4jHqf6B"
      },
      "source": [
        "# Prepare the Student Roster\n",
        "Let's create a new register by combining data from two classes while making some modifications to the register.\n",
        "\n",
        "### Instructions:\n",
        "* Create a `'class_1'` list and pass the elements `'Geoffrey Hinton','Andrew Ng','Sebastian Raschka','Yoshua Bengio'.`\n",
        "\n",
        "* Create a `'class_2'` list and pass the elements `'Hilary Mason','Carla Gentry','Corinna Cortes'.`\n",
        "\n",
        "* Concatenate the` 'class_1'` and `'class_2'` list. Store the values in a`'new_class'` variable.\n",
        "\n",
        "* Print the `'new_class'` variable to see the new list.\n",
        "\n",
        "* You can now see the students list.\n",
        "\n",
        "* Oops! Looks like we might have missed a student whose name is `Peter Warden`. Let's add him in the new register.\n",
        "\n",
        "* Add new element 'Peter Warden' in the `'new_class' `list.\n",
        "\n",
        "* Print `'new_class'` to see the updated list.\n",
        "\n",
        "* It seems like there could also be a wrong entry in the list whose name is `Carla Gentry`. Let's remove her from the register.\n",
        "\n",
        "* Remove the `'Carla Gentry'`element from the `'new_class'` list.\n",
        "\n",
        "* Print 'new_class' to see the updated list"
      ]
    },
    {
      "cell_type": "code",
      "metadata": {
        "id": "fALDLw6IfN5a"
      },
      "source": [
        ""
      ],
      "execution_count": null,
      "outputs": []
    },
    {
      "cell_type": "code",
      "metadata": {
        "id": "5XKiaw2lfN8h"
      },
      "source": [
        ""
      ],
      "execution_count": null,
      "outputs": []
    },
    {
      "cell_type": "code",
      "metadata": {
        "id": "QSYx7cFSfN_j"
      },
      "source": [
        ""
      ],
      "execution_count": null,
      "outputs": []
    },
    {
      "cell_type": "code",
      "metadata": {
        "id": "dWYGQHkBfOCf"
      },
      "source": [
        ""
      ],
      "execution_count": null,
      "outputs": []
    },
    {
      "cell_type": "markdown",
      "metadata": {
        "id": "INcfQBsOro1O"
      },
      "source": [
        "# Grade Please!\n",
        "Let's create a dictionary for Geoffrey Hinton in each subject to generate his progress report.\n",
        "\n",
        "### Instructions\n",
        "* Create a dictionary named '`courses`' using the keys and values given below\n",
        "\n",
        "\n",
        "![image.png](data:image/png;base64,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)\n",
        "\n",
        "* See the marks obtained in each subject.\n",
        "\n",
        "* Add all the marks scored out of 100 and store it in a variable named `'total'`.\n",
        "\n",
        "* Print `'total'`.\n",
        "\n",
        "* Calculate the 'percentage' scored by 'Geoffrey Hinton' where addition of all the subjects is 500.\n",
        "\n",
        "* Print the `'percentage'`."
      ]
    },
    {
      "cell_type": "code",
      "metadata": {
        "id": "EhjzojSxqg_a"
      },
      "source": [
        ""
      ],
      "execution_count": null,
      "outputs": []
    },
    {
      "cell_type": "code",
      "metadata": {
        "id": "L-x46QzTfQ7h"
      },
      "source": [
        ""
      ],
      "execution_count": null,
      "outputs": []
    },
    {
      "cell_type": "code",
      "metadata": {
        "id": "eW8teSBufQ-b"
      },
      "source": [
        ""
      ],
      "execution_count": null,
      "outputs": []
    },
    {
      "cell_type": "code",
      "metadata": {
        "id": "z7O35JxhfRBg"
      },
      "source": [
        ""
      ],
      "execution_count": null,
      "outputs": []
    },
    {
      "cell_type": "code",
      "metadata": {
        "id": "ZZmsncR6fREG"
      },
      "source": [
        ""
      ],
      "execution_count": null,
      "outputs": []
    },
    {
      "cell_type": "markdown",
      "metadata": {
        "id": "0NmHxRk5sZQZ"
      },
      "source": [
        "# Kudos to the Math Genius!\n",
        "For the student who got the highest marks in this subject, the school has decided to award a scholarship. Let's check who performed best in mathematics from all the students who appeared for the test.\n",
        "\n",
        "### Instructions\n",
        "* Create a dictionary named 'mathematics' using the keys and values given below.\n",
        "\n",
        "\n",
        "![image.png](data:image/png;base64,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)\n",
        "\n",
        "# Example of max function:\n",
        "### calculate the max value\n",
        "\n",
        "max_marks_scored = max(courses,key = courses.get)\n",
        "\n",
        "print (max_marks_scored)\n",
        "\n",
        "\n",
        "Output>>  History\n",
        "\n",
        "\n",
        "* Find out the student with the highest marks in Mathematics and store it in a variable 'topper'."
      ]
    },
    {
      "cell_type": "code",
      "metadata": {
        "id": "ei9HOcSssbAh"
      },
      "source": [
        ""
      ],
      "execution_count": null,
      "outputs": []
    },
    {
      "cell_type": "code",
      "metadata": {
        "id": "Lu4-IHkQfUWJ"
      },
      "source": [
        ""
      ],
      "execution_count": null,
      "outputs": []
    },
    {
      "cell_type": "code",
      "metadata": {
        "id": "D-dpGijrfUYx"
      },
      "source": [
        ""
      ],
      "execution_count": null,
      "outputs": []
    },
    {
      "cell_type": "code",
      "metadata": {
        "id": "QN7vwg5kfUbY"
      },
      "source": [
        ""
      ],
      "execution_count": null,
      "outputs": []
    },
    {
      "cell_type": "code",
      "metadata": {
        "id": "DlcY4njSfUec"
      },
      "source": [
        ""
      ],
      "execution_count": null,
      "outputs": []
    },
    {
      "cell_type": "markdown",
      "metadata": {
        "id": "tQjaXGoPt0tz"
      },
      "source": [
        "# Scholarship Certificate\n",
        "From the previous task, we know who is the 'Maths' topper in the class. You now have to print the name of the student on the certificate, but you will have to print his last name and then his first name.\n",
        "\n",
        "### Instructions\n",
        "* String name `'topper'` with the Math topper's name is given.\n",
        "* Split the `'topper'` using the `\"split()\" `function and store the results in `'first_name'` and 'last_name'.\n",
        "* Display the full name concatenating + the strings `'last_name'` and `'first_name'` strings. Don't forget to add a whitespace character between them to avoid displaying them together and store it in a `full_name` variable .\n",
        "\n",
        "* Convert all the elements in the `'full_name'`string to uppercase, and store it to the `'certificate_name'` variable.\n",
        "* Print `'certificate_name'`."
      ]
    },
    {
      "cell_type": "code",
      "metadata": {
        "id": "lNOWpHXofhZy"
      },
      "source": [
        ""
      ],
      "execution_count": null,
      "outputs": []
    },
    {
      "cell_type": "code",
      "metadata": {
        "id": "7vAsOtJCfhdL"
      },
      "source": [
        ""
      ],
      "execution_count": null,
      "outputs": []
    },
    {
      "cell_type": "code",
      "metadata": {
        "id": "VEJT1UvqfhgA"
      },
      "source": [
        ""
      ],
      "execution_count": null,
      "outputs": []
    },
    {
      "cell_type": "code",
      "metadata": {
        "id": "iSoQHlyUfhi8"
      },
      "source": [
        ""
      ],
      "execution_count": null,
      "outputs": []
    },
    {
      "cell_type": "code",
      "metadata": {
        "id": "2Kkyg3PWfhlk"
      },
      "source": [
        ""
      ],
      "execution_count": null,
      "outputs": []
    }
  ]
}